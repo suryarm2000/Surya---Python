{
 "cells": [
  {
   "cell_type": "code",
   "execution_count": 1,
   "id": "b77d9f9c",
   "metadata": {},
   "outputs": [],
   "source": [
    "from IPython.display import clear_output\n",
    "def display_board(board):\n",
    "    clear_output()\n",
    "    print(board[1],\"|\",board[2],\"|\",board[3])\n",
    "    print(\"---------\")\n",
    "    print(board[4],\"|\",board[5],\"|\",board[6])\n",
    "    print(\"---------\")\n",
    "    print(board[7],\"|\",board[8],\"|\",board[9])"
   ]
  },
  {
   "cell_type": "code",
   "execution_count": 2,
   "id": "f70896f8",
   "metadata": {},
   "outputs": [],
   "source": [
    "def player_input():\n",
    "    marker = ''\n",
    "    while marker != 'X' and marker != 'O':\n",
    "        marker = input(\"Please choose your marker X or O: \").upper()\n",
    "    if marker == 'X':\n",
    "        return (\"X\",\"O\")\n",
    "    else:\n",
    "        return (\"O\",\"X\")"
   ]
  },
  {
   "cell_type": "code",
   "execution_count": 3,
   "id": "2fe24607",
   "metadata": {},
   "outputs": [],
   "source": [
    "def place_marker(board, marker, position):\n",
    "    board[position] = marker"
   ]
  },
  {
   "cell_type": "code",
   "execution_count": 4,
   "id": "7240d50e",
   "metadata": {},
   "outputs": [],
   "source": [
    "def win_check(board, mark):\n",
    "    return ((board[1] == board[2] == board[3] == mark)\n",
    "    or (board[4] == board[5] == board[6] == mark)\n",
    "    or (board[7] == board[8] == board[9] == mark)\n",
    "    or (board[1] == board[5] == board[9] == mark)\n",
    "    or (board[3] == board[5] == board[7] == mark)\n",
    "    or (board[1] == board[4] == board[7] == mark)\n",
    "    or (board[2] == board[5] == board[8] == mark)\n",
    "    or (board[3] == board[6] == board[9] == mark))"
   ]
  },
  {
   "cell_type": "code",
   "execution_count": 5,
   "id": "cc2d3dba",
   "metadata": {},
   "outputs": [],
   "source": [
    "import random\n",
    "def choose_first():\n",
    "    flip = random.randint(0,1)\n",
    "    if flip == 0:\n",
    "        return \"Player 1\"\n",
    "    else:\n",
    "        return \"Player 2\""
   ]
  },
  {
   "cell_type": "code",
   "execution_count": 6,
   "id": "a0e1df8c",
   "metadata": {},
   "outputs": [],
   "source": [
    "def space_check(board, position):\n",
    "    return board[position] == ' '"
   ]
  },
  {
   "cell_type": "code",
   "execution_count": 7,
   "id": "3537e082",
   "metadata": {},
   "outputs": [],
   "source": [
    "def fullboard_check(board):\n",
    "    for i in range(1,10):\n",
    "        if space_check(board, i):\n",
    "            return False\n",
    "    return True"
   ]
  },
  {
   "cell_type": "code",
   "execution_count": 8,
   "id": "2df83d3a",
   "metadata": {},
   "outputs": [],
   "source": [
    "def player_choice(board):\n",
    "    position = 0\n",
    "    while position not in [1,2,3,4,5,6,7,8,9] or not space_check(board, position):\n",
    "        position = int(input(\"Please enter a position(1-9): \"))\n",
    "    return position"
   ]
  },
  {
   "cell_type": "code",
   "execution_count": 9,
   "id": "d386d544",
   "metadata": {},
   "outputs": [],
   "source": [
    "def replay():\n",
    "    choice = input(\"Do you want to play again? Enter Yes or No: \")\n",
    "    return choice == \"Yes\""
   ]
  },
  {
   "cell_type": "code",
   "execution_count": 10,
   "id": "b4de774a",
   "metadata": {},
   "outputs": [
    {
     "name": "stdout",
     "output_type": "stream",
     "text": [
      "O | X | O\n",
      "---------\n",
      "  | O | X\n",
      "---------\n",
      "O |   | X\n",
      "Player 1 has won\n",
      "Do you want to play again? Enter Yes or No: no\n"
     ]
    }
   ],
   "source": [
    "print(\"Welcome to Tic Tac Toe\")\n",
    "\n",
    "while True:\n",
    "    # setup board, which player first and markers\n",
    "    board = [\" \"]*10\n",
    "    player1_marker, player2_marker = player_input()\n",
    "    \n",
    "    player = choose_first()\n",
    "    print(\"{} will go first\".format(player))\n",
    "    \n",
    "    play_game = input(\"Are you ready to play the game, yes or no?: \")\n",
    "    if play_game == \"yes\":\n",
    "        game_on = True\n",
    "    else:\n",
    "        game_on = False\n",
    "    \n",
    "    while game_on:\n",
    "        if player == \"Player 1\":\n",
    "            # display the board, choose the position, set the marker on the position\n",
    "            # check if they won, or if they tie if not both go for the next player \n",
    "            \n",
    "            display_board(board)\n",
    "            position = player_choice(board)\n",
    "            place_marker(board, player1_marker, position)\n",
    "            if win_check(board, player1_marker):\n",
    "                display_board(board)\n",
    "                print(\"Player 1 has won\")\n",
    "                game_on = False\n",
    "            else:\n",
    "                if fullboard_check(board):\n",
    "                    display_board(board)\n",
    "                    print(\"Game ended in a draw\")\n",
    "                    game_on = False\n",
    "                else:\n",
    "                    player = \"Player 2\"\n",
    "        elif player == \"Player 2\":\n",
    "            # display the board, choose the position, set the marker on the position\n",
    "            # check if they won, or if they tie if not both go for the next player \n",
    "            \n",
    "            display_board(board)\n",
    "            position = player_choice(board)\n",
    "            place_marker(board, player2_marker, position)\n",
    "            if win_check(board, player2_marker):\n",
    "                display_board(board)\n",
    "                print(\"Player 2 has won\")\n",
    "                game_on = False\n",
    "            else:\n",
    "                if fullboard_check(board):\n",
    "                    display_board(board)\n",
    "                    print(\"Game ended in a draw\")\n",
    "                    game_on = False\n",
    "                else:\n",
    "                    player = \"Player 1\"\n",
    "    if not replay():\n",
    "        break\n",
    "    "
   ]
  },
  {
   "cell_type": "code",
   "execution_count": null,
   "id": "c6b618b8",
   "metadata": {},
   "outputs": [],
   "source": []
  }
 ],
 "metadata": {
  "kernelspec": {
   "display_name": "Python 3 (ipykernel)",
   "language": "python",
   "name": "python3"
  },
  "language_info": {
   "codemirror_mode": {
    "name": "ipython",
    "version": 3
   },
   "file_extension": ".py",
   "mimetype": "text/x-python",
   "name": "python",
   "nbconvert_exporter": "python",
   "pygments_lexer": "ipython3",
   "version": "3.11.5"
  }
 },
 "nbformat": 4,
 "nbformat_minor": 5
}
